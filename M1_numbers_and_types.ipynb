{
 "cells": [
  {
   "cell_type": "code",
   "execution_count": 4,
   "id": "c46c63e9-2b9f-4741-b64f-a27a6a17cb6f",
   "metadata": {},
   "outputs": [
    {
     "name": "stdout",
     "output_type": "stream",
     "text": [
      "Seconds in an hour: 3600\n"
     ]
    }
   ],
   "source": [
    "# 3.1\n",
    "print(\"Seconds in an hour: \" + str(60 * 60))"
   ]
  },
  {
   "cell_type": "code",
   "execution_count": 6,
   "id": "9213b169-c2d5-46bc-9c04-a7262b433a86",
   "metadata": {},
   "outputs": [
    {
     "name": "stdout",
     "output_type": "stream",
     "text": [
      "Seconds in an hour: 3600\n"
     ]
    }
   ],
   "source": [
    "# 3.2\n",
    "seconds_per_hour = 60 * 60\n",
    "print(\"Seconds in an hour: \" + str(seconds_per_hour))"
   ]
  },
  {
   "cell_type": "code",
   "execution_count": 10,
   "id": "f317122f-3e1a-4ea6-844c-93204a1eb1bc",
   "metadata": {},
   "outputs": [
    {
     "name": "stdout",
     "output_type": "stream",
     "text": [
      "Seconds in a day: 86400\n"
     ]
    }
   ],
   "source": [
    "# 3.3\n",
    "print(\"Seconds in a day: \" + str(seconds_per_hour * 24))"
   ]
  },
  {
   "cell_type": "code",
   "execution_count": 12,
   "id": "0e44d7ea-5e49-45e9-b247-cf1c252cd128",
   "metadata": {},
   "outputs": [
    {
     "name": "stdout",
     "output_type": "stream",
     "text": [
      "Seconds in a day: 86400\n"
     ]
    }
   ],
   "source": [
    "# 3.4\n",
    "seconds_per_day = seconds_per_hour * 24\n",
    "print(\"Seconds in a day: \" + str(seconds_per_day))"
   ]
  },
  {
   "cell_type": "code",
   "execution_count": 14,
   "id": "d59a2465-7848-4a44-a4c4-962684971d0d",
   "metadata": {},
   "outputs": [
    {
     "name": "stdout",
     "output_type": "stream",
     "text": [
      "24.0\n"
     ]
    }
   ],
   "source": [
    "# 3.5\n",
    "print(seconds_per_day / seconds_per_hour)"
   ]
  },
  {
   "cell_type": "code",
   "execution_count": 18,
   "id": "3c8c4264-245c-4bb9-b2be-18fede31cb5d",
   "metadata": {},
   "outputs": [
    {
     "name": "stdout",
     "output_type": "stream",
     "text": [
      "24\n"
     ]
    }
   ],
   "source": [
    "# 3.6 \n",
    "print(seconds_per_day // seconds_per_hour)\n",
    "\n",
    "# To answer the last question. Yes, they were both equal to 24."
   ]
  },
  {
   "cell_type": "code",
   "execution_count": null,
   "id": "cb198798-02d4-496d-bbfb-693f2409388f",
   "metadata": {},
   "outputs": [],
   "source": []
  }
 ],
 "metadata": {
  "kernelspec": {
   "display_name": "Python 3 (ipykernel)",
   "language": "python",
   "name": "python3"
  },
  "language_info": {
   "codemirror_mode": {
    "name": "ipython",
    "version": 3
   },
   "file_extension": ".py",
   "mimetype": "text/x-python",
   "name": "python",
   "nbconvert_exporter": "python",
   "pygments_lexer": "ipython3",
   "version": "3.12.4"
  }
 },
 "nbformat": 4,
 "nbformat_minor": 5
}
