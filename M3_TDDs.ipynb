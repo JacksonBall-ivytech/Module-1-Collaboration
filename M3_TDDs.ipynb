{
 "cells": [
  {
   "cell_type": "code",
   "execution_count": 1,
   "id": "51a1285f-41c2-4506-b63c-df8ca0eb8927",
   "metadata": {},
   "outputs": [
    {
     "name": "stdout",
     "output_type": "stream",
     "text": [
      "['mozzarella', 'cinderella', 'salmonella']\n",
      "['mozzarella', 'Cinderella', 'salmonella']\n",
      "['MOZZARELLA', 'Cinderella', 'salmonella']\n",
      "['MOZZARELLA', 'Cinderella']\n"
     ]
    }
   ],
   "source": [
    "# 7.4\n",
    "things = ['mozzarella', 'cinderella', 'salmonella']\n",
    "print(things)\n",
    "\n",
    "# 7.5\n",
    "things[1] = things[1].title()\n",
    "print(things)\n",
    "\n",
    "# 7.6\n",
    "things[0] = things[0].upper()\n",
    "print(things)\n",
    "\n",
    "# 7.7\n",
    "del things[-1]\n",
    "print(things)"
   ]
  },
  {
   "cell_type": "code",
   "execution_count": 3,
   "id": "34771911-41ba-42a5-9af9-b117e113aa6e",
   "metadata": {},
   "outputs": [
    {
     "name": "stdout",
     "output_type": "stream",
     "text": [
      "['Harry', 'Ron', 'Hermine']\n"
     ]
    }
   ],
   "source": [
    "# 9.1\n",
    "def good():\n",
    "    return ['Harry', 'Ron', 'Hermine']\n",
    "\n",
    "print(good())"
   ]
  },
  {
   "cell_type": "code",
   "execution_count": 9,
   "id": "2db1e72e-1d7e-4379-a77a-208cc54ab118",
   "metadata": {},
   "outputs": [
    {
     "name": "stdout",
     "output_type": "stream",
     "text": [
      "The thrid number in the list is 5\n"
     ]
    }
   ],
   "source": [
    "# 9.2\n",
    "def get_odds():\n",
    "    odds = []\n",
    "    for i in range(10):\n",
    "        if i % 2 != 0:\n",
    "            odds.append(i)\n",
    "    return odds\n",
    "\n",
    "odds = get_odds()\n",
    "counter = 1\n",
    "for i in odds:\n",
    "    if counter == 3:\n",
    "        third = i\n",
    "        break\n",
    "    counter += 1\n",
    "\n",
    "print(f'The thrid number in the list is {third}')"
   ]
  },
  {
   "cell_type": "code",
   "execution_count": null,
   "id": "b7d39432-e2ff-4c27-a5e9-b59079defa77",
   "metadata": {},
   "outputs": [],
   "source": []
  }
 ],
 "metadata": {
  "kernelspec": {
   "display_name": "Python 3 (ipykernel)",
   "language": "python",
   "name": "python3"
  },
  "language_info": {
   "codemirror_mode": {
    "name": "ipython",
    "version": 3
   },
   "file_extension": ".py",
   "mimetype": "text/x-python",
   "name": "python",
   "nbconvert_exporter": "python",
   "pygments_lexer": "ipython3",
   "version": "3.12.4"
  }
 },
 "nbformat": 4,
 "nbformat_minor": 5
}
