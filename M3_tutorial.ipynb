{
 "cells": [
  {
   "cell_type": "code",
   "execution_count": 1,
   "id": "a26788cf-e041-479e-91cf-a67d90e74242",
   "metadata": {},
   "outputs": [],
   "source": [
    "# Sort 0s, 1s, and 2s\n",
    "class Solution:\n",
    "    # Function to sort an array of 0s, 1s, and 2s\n",
    "    def sort012(self, arr):\n",
    "        return arr.sort()"
   ]
  },
  {
   "cell_type": "code",
   "execution_count": 3,
   "id": "e9ddebf7-ab1a-4f3a-9afc-3f9f02fd6632",
   "metadata": {},
   "outputs": [],
   "source": [
    "# Binary search\n",
    "class Solution:\n",
    "    def binarysearch(self, arr, k):\n",
    "        low = 0\n",
    "        high = len(arr) - 1\n",
    "    \n",
    "        while low <= high:\n",
    "            mid = (low + high) // 2\n",
    "            guess = arr[mid]\n",
    "    \n",
    "            if guess == k:\n",
    "                return mid\n",
    "            elif guess < k:\n",
    "                low = mid + 1\n",
    "            else:\n",
    "                high = mid - 1\n",
    "    \n",
    "        return -1"
   ]
  }
 ],
 "metadata": {
  "kernelspec": {
   "display_name": "Python 3 (ipykernel)",
   "language": "python",
   "name": "python3"
  },
  "language_info": {
   "codemirror_mode": {
    "name": "ipython",
    "version": 3
   },
   "file_extension": ".py",
   "mimetype": "text/x-python",
   "name": "python",
   "nbconvert_exporter": "python",
   "pygments_lexer": "ipython3",
   "version": "3.12.4"
  }
 },
 "nbformat": 4,
 "nbformat_minor": 5
}
