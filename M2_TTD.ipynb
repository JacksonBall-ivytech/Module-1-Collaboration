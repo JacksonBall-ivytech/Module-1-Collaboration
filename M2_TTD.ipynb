{
 "cells": [
  {
   "cell_type": "code",
   "execution_count": 2,
   "id": "08213ba4-cd44-4154-8937-256d5284ed4f",
   "metadata": {},
   "outputs": [
    {
     "name": "stdout",
     "output_type": "stream",
     "text": [
      "too high\n"
     ]
    }
   ],
   "source": [
    "# 4.1\n",
    "secret = 2\n",
    "guess = 7\n",
    "if guess < secret:\n",
    "    print('too low')\n",
    "elif guess > secret:\n",
    "    print('too high')\n",
    "else:\n",
    "    print('just right')"
   ]
  },
  {
   "cell_type": "code",
   "execution_count": 4,
   "id": "d21a1a54-f141-4e2a-b8a6-46c73998d92f",
   "metadata": {},
   "outputs": [
    {
     "name": "stdout",
     "output_type": "stream",
     "text": [
      "Pumpkin\n"
     ]
    }
   ],
   "source": [
    "# 4.2\n",
    "small = False\n",
    "green = False\n",
    "if small and green:\n",
    "    print('Pea')\n",
    "elif small and not green:\n",
    "    print('Cherry')\n",
    "elif not small and green:\n",
    "    print('Watermelon')\n",
    "else:\n",
    "    print('Pumpkin')"
   ]
  },
  {
   "cell_type": "code",
   "execution_count": 10,
   "id": "00408a2d-b2ae-45a2-81c7-56c345e79e5f",
   "metadata": {},
   "outputs": [
    {
     "name": "stdout",
     "output_type": "stream",
     "text": [
      "3\n",
      "2\n",
      "1\n",
      "0\n"
     ]
    }
   ],
   "source": [
    "# 6.1\n",
    "for i in range(3, -1, -1):\n",
    "    print(i)"
   ]
  },
  {
   "cell_type": "code",
   "execution_count": 12,
   "id": "f3be1655-38ea-4768-8bda-c97b5b5b4008",
   "metadata": {},
   "outputs": [
    {
     "name": "stdout",
     "output_type": "stream",
     "text": [
      "too low\n",
      "too low\n",
      "too low\n",
      "too low\n",
      "too low\n",
      "too low\n",
      "found it!\n",
      "oops\n"
     ]
    }
   ],
   "source": [
    "# 6.2\n",
    "guess_me = 7\n",
    "number = 1\n",
    "while True:\n",
    "    if number < guess_me:\n",
    "        print('too low')\n",
    "    elif number == guess_me:\n",
    "        print('found it!')\n",
    "    else:\n",
    "        print('oops')\n",
    "        break\n",
    "    number += 1"
   ]
  },
  {
   "cell_type": "code",
   "execution_count": 14,
   "id": "fa577feb-7fc8-40fb-9b76-de42a6007bcd",
   "metadata": {},
   "outputs": [
    {
     "name": "stdout",
     "output_type": "stream",
     "text": [
      "too low\n",
      "too low\n",
      "too low\n",
      "too low\n",
      "too low\n",
      "found it!\n",
      "oops\n"
     ]
    }
   ],
   "source": [
    "# 6.3\n",
    "guess_me = 5\n",
    "for number in range(10):\n",
    "    if number < guess_me:\n",
    "        print('too low')\n",
    "    elif number == guess_me:\n",
    "        print('found it!')\n",
    "    else:\n",
    "        print('oops')\n",
    "        break"
   ]
  },
  {
   "cell_type": "code",
   "execution_count": null,
   "id": "b94ccdfa-8afe-4240-ab4c-6ed143e6158d",
   "metadata": {},
   "outputs": [],
   "source": []
  }
 ],
 "metadata": {
  "kernelspec": {
   "display_name": "Python 3 (ipykernel)",
   "language": "python",
   "name": "python3"
  },
  "language_info": {
   "codemirror_mode": {
    "name": "ipython",
    "version": 3
   },
   "file_extension": ".py",
   "mimetype": "text/x-python",
   "name": "python",
   "nbconvert_exporter": "python",
   "pygments_lexer": "ipython3",
   "version": "3.12.4"
  }
 },
 "nbformat": 4,
 "nbformat_minor": 5
}
